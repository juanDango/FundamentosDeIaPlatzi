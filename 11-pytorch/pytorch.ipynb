{
 "cells": [
  {
   "cell_type": "code",
   "execution_count": 2,
   "id": "bdf7e113",
   "metadata": {},
   "outputs": [],
   "source": [
    "import torch\n",
    "import torch.nn as nn\n",
    "import torch.optim as optim\n",
    "import numpy as np"
   ]
  },
  {
   "cell_type": "code",
   "execution_count": 4,
   "id": "0a44d9c4",
   "metadata": {},
   "outputs": [],
   "source": [
    "x_np = np.random.rand(100, 4).astype(np.float32)\n",
    "y_np = np.random.randint(0, 2, size=(100, 1)).astype(np.int64)\n",
    "\n",
    "x = torch.from_numpy(x_np)\n",
    "y = torch.from_numpy(y_np)"
   ]
  },
  {
   "cell_type": "code",
   "execution_count": 12,
   "id": "2e8af3e7",
   "metadata": {},
   "outputs": [],
   "source": [
    "class RedSimple(nn.Module):\n",
    "    def __init__(self, n_entradas, n_ocultas, n_salidas):\n",
    "        super().__init__()\n",
    "\n",
    "        self.hidden = nn.Linear(n_entradas, n_ocultas)\n",
    "\n",
    "        self.output = nn.Linear(n_ocultas, n_salidas)\n",
    "\n",
    "        self.relu = nn.ReLU()\n",
    "        self.sigmoid = nn.Sigmoid()\n",
    "\n",
    "    def forward(self, x):\n",
    "\n",
    "        x = self.hidden(x)\n",
    "        x = self.relu(x)\n",
    "        x = self.output(x)\n",
    "        x = self.sigmoid(x).squeeze(1)\n",
    "        return x\n",
    "    \n",
    "modelo = RedSimple(4, 8, 1)"
   ]
  },
  {
   "cell_type": "code",
   "execution_count": 13,
   "id": "d3686d45",
   "metadata": {},
   "outputs": [],
   "source": [
    "criterion = nn.BCELoss()\n",
    "optimizer = optim.Adam(modelo.parameters(), lr=0.01)"
   ]
  },
  {
   "cell_type": "code",
   "execution_count": 22,
   "id": "de919bd2",
   "metadata": {},
   "outputs": [
    {
     "name": "stdout",
     "output_type": "stream",
     "text": [
      "Epoch 1/10, Loss: 0.6848\n",
      "Epoch 2/10, Loss: 0.6029\n",
      "Epoch 3/10, Loss: 0.7096\n",
      "Epoch 4/10, Loss: 0.6687\n",
      "Epoch 5/10, Loss: 0.7452\n",
      "Epoch 6/10, Loss: 0.5924\n",
      "Epoch 7/10, Loss: 0.7164\n",
      "Epoch 8/10, Loss: 0.7962\n",
      "Epoch 9/10, Loss: 0.6561\n",
      "Epoch 10/10, Loss: 0.7201\n"
     ]
    }
   ],
   "source": [
    "n_epochs = 10\n",
    "\n",
    "batch_size = 16\n",
    "dataset = torch.utils.data.TensorDataset(x, y)\n",
    "dataloader = torch.utils.data.DataLoader(dataset, batch_size=batch_size, shuffle=True)\n",
    "\n",
    "for epoch in range(n_epochs):\n",
    "    for X_batch, y_batch in dataloader:\n",
    "\n",
    "        y_pred = modelo(X_batch)\n",
    "        loss = criterion(y_pred.reshape(-1), y_batch.float().reshape(-1))\n",
    "\n",
    "        optimizer.zero_grad()\n",
    "        loss.backward()\n",
    "        optimizer.step()\n",
    "    \n",
    "    print(f'Epoch {epoch+1}/{n_epochs}, Loss: {loss.item():.4f}')\n",
    "    "
   ]
  },
  {
   "cell_type": "code",
   "execution_count": 23,
   "id": "f228a402",
   "metadata": {},
   "outputs": [
    {
     "name": "stdout",
     "output_type": "stream",
     "text": [
      "Accuracy: 0.5500\n"
     ]
    }
   ],
   "source": [
    "with torch.no_grad():\n",
    "    y_pred = modelo(x)\n",
    "    y_pred_class = (y_pred >= 0.5).float()\n",
    "    accuracy = (y_pred_class.reshape(-1) == y.reshape(-1).float()).float().mean()\n",
    "    print(f'Accuracy: {accuracy.item():.4f}')"
   ]
  },
  {
   "cell_type": "code",
   "execution_count": 24,
   "id": "a606627c",
   "metadata": {},
   "outputs": [
    {
     "name": "stdout",
     "output_type": "stream",
     "text": [
      "RedSimple(\n",
      "  (hidden): Linear(in_features=4, out_features=8, bias=True)\n",
      "  (output): Linear(in_features=8, out_features=1, bias=True)\n",
      "  (relu): ReLU()\n",
      "  (sigmoid): Sigmoid()\n",
      ")\n"
     ]
    }
   ],
   "source": [
    "print(modelo)"
   ]
  },
  {
   "cell_type": "code",
   "execution_count": 25,
   "id": "7e7db957",
   "metadata": {},
   "outputs": [
    {
     "data": {
      "application/vnd.jupyter.widget-view+json": {
       "model_id": "b3a8f7068e0e4bc8ab96a9d47a700978",
       "version_major": 2,
       "version_minor": 0
      },
      "text/plain": [
       "interactive(children=(IntSlider(value=3, description='Capas Ocultas:', max=25, min=1), Output()), _dom_classes…"
      ]
     },
     "metadata": {},
     "output_type": "display_data"
    },
    {
     "data": {
      "text/plain": [
       "<function __main__.probar_pytorch(capas)>"
      ]
     },
     "execution_count": 25,
     "metadata": {},
     "output_type": "execute_result"
    }
   ],
   "source": [
    "import ipywidgets as widgets\n",
    "\n",
    "capas_widget = widgets.IntSlider(value=3, min=1, max=25, step=1, description='Capas Ocultas:')\n",
    "\n",
    "def probar_pytorch(capas):\n",
    "    class RedDinamica(nn.Module):\n",
    "        def __init__(self, n_entradas, n_ocultas, n_capas):\n",
    "            super().__init__()\n",
    "\n",
    "            self.layers=nn.ModuleList()\n",
    "            self.layers.append(nn.Linear(n_entradas, n_ocultas))\n",
    "\n",
    "            for _ in range(n_capas - 1):\n",
    "                self.layers.append(nn.Linear(n_ocultas, n_ocultas))\n",
    "            \n",
    "            self.out = nn.Linear(n_ocultas, 1)\n",
    "            self.relu = nn.ReLU()\n",
    "            self.sig = nn.Sigmoid()\n",
    "        \n",
    "        def forward(self, x):\n",
    "            for layer in self.layers:\n",
    "                x = self.relu(layer(x))\n",
    "            x = self.sig(self.out(x)).squeeze(1)\n",
    "            return x\n",
    "        \n",
    "    model = RedDinamica(4, 8, capas)\n",
    "    criterion = nn.BCELoss()\n",
    "    optimizer = optim.Adam(model.parameters(), lr=0.01)\n",
    "\n",
    "    for _ in range(10):\n",
    "        for X_batch, y_batch in dataloader:\n",
    "\n",
    "            y_pred = model(X_batch)\n",
    "            loss = criterion(y_pred.reshape(-1), y_batch.float().reshape(-1))\n",
    "\n",
    "            optimizer.zero_grad()\n",
    "            loss.backward()\n",
    "            optimizer.step()\n",
    "    \n",
    "    with torch.no_grad():\n",
    "        y_pred = model(x)\n",
    "        y_pred_class = (y_pred >= 0.5).float()\n",
    "        accuracy = (y_pred_class.reshape(-1) == y.reshape(-1).float()).float().mean()\n",
    "    print(f'Accuracy: {accuracy.item():.4f}')\n",
    "\n",
    "widgets.interact(probar_pytorch, capas=capas_widget)"
   ]
  },
  {
   "cell_type": "code",
   "execution_count": null,
   "id": "2b2140ce",
   "metadata": {},
   "outputs": [],
   "source": []
  }
 ],
 "metadata": {
  "kernelspec": {
   "display_name": "venv",
   "language": "python",
   "name": "python3"
  },
  "language_info": {
   "codemirror_mode": {
    "name": "ipython",
    "version": 3
   },
   "file_extension": ".py",
   "mimetype": "text/x-python",
   "name": "python",
   "nbconvert_exporter": "python",
   "pygments_lexer": "ipython3",
   "version": "3.13.2"
  }
 },
 "nbformat": 4,
 "nbformat_minor": 5
}
